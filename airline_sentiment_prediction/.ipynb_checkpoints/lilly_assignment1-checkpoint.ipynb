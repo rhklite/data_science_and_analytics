{
 "cells": [
  {
   "cell_type": "markdown",
   "metadata": {},
   "source": [
    "# MIE 1624 Assignment 1: Sentimental Analysis\n",
    "\n",
    "“What can public opinion on Twitter tell us about the US airlines in 2015?”\n"
   ]
  },
  {
   "cell_type": "code",
   "execution_count": 1,
   "metadata": {},
   "outputs": [],
   "source": [
    "#Import all library needed for this assignment:\n",
    "import pandas as pd\n",
    "import nltk\n",
    "from bs4 import BeautifulSoup\n",
    "import re\n",
    "import matplotlib.pyplot as plt\n",
    "import matplotlib.colors as colors\n",
    "import numpy as np\n",
    "import datetime\n",
    "import pytz"
   ]
  },
  {
   "cell_type": "markdown",
   "metadata": {},
   "source": [
    "## Step 1: Data Processing \n"
   ]
  },
  {
   "cell_type": "markdown",
   "metadata": {},
   "source": [
    "The data processing step ensures that:\n",
    "1. All html characters are mapped to their corresponding ASCII symbols\n",
    "2. All non letter characters are removed\n",
    "3. All letters are mapped to lowercase letter\n",
    "4. All stop words are removed (stop words are words that are considered to be the most common words in the english language)"
   ]
  },
  {
   "cell_type": "markdown",
   "metadata": {},
   "source": [
    "**Upload all files into the pandas data frame work:**"
   ]
  },
  {
   "cell_type": "code",
   "execution_count": 2,
   "metadata": {},
   "outputs": [],
   "source": [
    "generic_tweets = pd.read_csv('generic_tweets.txt', delimiter = ',')\n",
    "airline_tweets = pd.read_csv('US_airline_tweets.csv')\n",
    "corpus = pd.read_csv('corpus.txt', names = ['word','score'], delim_whitespace=True)\n",
    "stop_words = pd.read_csv('stop_words.txt',names = ['word'])"
   ]
  },
  {
   "cell_type": "markdown",
   "metadata": {},
   "source": [
    "**Parse the html symbols to its ASCII equivalent:**"
   ]
  },
  {
   "cell_type": "code",
   "execution_count": 3,
   "metadata": {},
   "outputs": [],
   "source": [
    "def parse_html(text):\n",
    "    '''\n",
    "    Function use html parser to read the text and returns a string with the corresponding ASCII equivalent symbols\n",
    "\n",
    "    '''\n",
    "    doc=BeautifulSoup(text, 'html.parser')\n",
    "    return doc.get_text()\n",
    "\n",
    "# Clean the generic tweets and the airline tweets data:\n",
    "generic_tweets['text'] = generic_tweets['text'].apply(parse_html)\n",
    "airline_tweets ['text'] = airline_tweets['text'].apply(parse_html)"
   ]
  },
  {
   "cell_type": "markdown",
   "metadata": {},
   "source": [
    "**Remove URLs from the tweets:**"
   ]
  },
  {
   "cell_type": "code",
   "execution_count": 4,
   "metadata": {},
   "outputs": [],
   "source": [
    "def remove_URL(text):\n",
    "    '''\n",
    "    Function remove url with similar patterns and returns a string without the URL\n",
    "    Patterns are:\n",
    "        -start with https and end with a white space\n",
    "        -start with http and end with a white space\n",
    "        -start with www and end with a white space\n",
    "        \n",
    "    '''\n",
    "    URLless1 = re.sub(r'https\\S+', '', text)\n",
    "    URLless2 = re.sub(r'http\\S+', '', URLless1)\n",
    "    URLless3 = re.sub(r'www\\S+', '',URLless2)\n",
    "    return URLless3\n",
    "\n",
    "# Remove URLs from the generic tweets and the airline tweets data:\n",
    "generic_tweets['text'] = generic_tweets['text'].apply(remove_URL)\n",
    "airline_tweets ['text'] = airline_tweets['text'].apply(remove_URL)"
   ]
  },
  {
   "cell_type": "markdown",
   "metadata": {},
   "source": [
    "**Remove all non alphabet characters and extra white spaces in the tweets:** <br/>\n",
    "note: \"at\" symbols are kept to extract airlines names in the next step, and will be removed in a later step"
   ]
  },
  {
   "cell_type": "code",
   "execution_count": 5,
   "metadata": {},
   "outputs": [],
   "source": [
    "def remove_nonletter_exspace(text):\n",
    "    '''\n",
    "    Function remove all non alphabet characters (except '@') and extra white spaces\n",
    "    returns a string in all lowercase letters\n",
    "        \n",
    "    '''\n",
    "    only_letter= re.sub(r'[^a-zA-Z@ ]+',' ',text)\n",
    "    remove_exspace=re.sub(r' +', ' ',only_letter)\n",
    "    remove_exspace=remove_exspace.strip()  #remove leading and trailing whitespaces\n",
    "    return  remove_exspace.lower() # return all words in lower case letter\n",
    "\n",
    "generic_tweets['text'] = generic_tweets['text'].apply(remove_nonletter_exspace)\n",
    "airline_tweets ['text'] = airline_tweets['text'].apply(remove_nonletter_exspace)"
   ]
  },
  {
   "cell_type": "markdown",
   "metadata": {},
   "source": [
    "**Remove all @User_name from general tweets:**"
   ]
  },
  {
   "cell_type": "code",
   "execution_count": 6,
   "metadata": {},
   "outputs": [],
   "source": [
    "def remove_at(text):\n",
    "    '''\n",
    "    Remove all words that start with @ and end with a white space\n",
    "    return a string\n",
    "    '''\n",
    "    text = re.sub(r'@\\S+', '',text)\n",
    "    return text\n",
    "\n",
    "generic_tweets['text'] = generic_tweets['text'].apply(remove_at)"
   ]
  },
  {
   "cell_type": "markdown",
   "metadata": {},
   "source": [
    "**Remove all the stops words using the nltk library list:**"
   ]
  },
  {
   "cell_type": "code",
   "execution_count": 7,
   "metadata": {},
   "outputs": [],
   "source": [
    "from nltk.corpus import stopwords\n",
    "stop_Words_list_nltk = set(stopwords.words('english'))\n",
    "\n",
    "def remove_stop_word(text):\n",
    "    '''\n",
    "    The input text is split into an array of individual words.\n",
    "    The word will be removed from the tweet if it's present in the stop_words lists.\n",
    "    A new string without stop words is returned.\n",
    "    \n",
    "    '''\n",
    "    words=text.split()\n",
    "    new_text=''\n",
    "    for i in words:\n",
    "        if i not in stop_Words_list_nltk: #if the word is not in the stop_word list\n",
    "            new_text=new_text+' '+ i #add the word to the final string\n",
    "    return new_text\n",
    "\n",
    "generic_tweets['text'] = generic_tweets['text'].apply(remove_stop_word)\n",
    "airline_tweets['text'] = airline_tweets['text'].apply(remove_stop_word)\n",
    "stop_words_list = None\n",
    "stop_Words_list_nltk = None"
   ]
  },
  {
   "cell_type": "markdown",
   "metadata": {},
   "source": [
    "**Perform lemmatisation:**"
   ]
  },
  {
   "cell_type": "code",
   "execution_count": 8,
   "metadata": {},
   "outputs": [],
   "source": [
    "from nltk.stem import WordNetLemmatizer \n",
    "#nltk.download('punkt')\n",
    "#nltk.download('wordnet')\n",
    "\n",
    "lemmatizer = WordNetLemmatizer()\n",
    "\n",
    "def lemmatizing(text):\n",
    "    \"\"\"\n",
    "    Caryy out lemmatizing on each word, aiming to remove inflectional endings \n",
    "    and to return the base or dictionary form of a word, which is known as the lemma . \n",
    "    \n",
    "    \"\"\"\n",
    "    words=text.split()\n",
    "    new_text=''\n",
    "    \n",
    "    for i in words:\n",
    "         new_text=new_text+' '+ lemmatizer.lemmatize(i)\n",
    "    return new_text.strip()\n",
    "\n",
    "generic_tweets['text'] = generic_tweets['text'].apply(lemmatizing)"
   ]
  },
  {
   "cell_type": "markdown",
   "metadata": {},
   "source": [
    "**Preview first 10 rows of data:**"
   ]
  },
  {
   "cell_type": "code",
   "execution_count": 9,
   "metadata": {},
   "outputs": [
    {
     "data": {
      "text/html": [
       "<div>\n",
       "<style scoped>\n",
       "    .dataframe tbody tr th:only-of-type {\n",
       "        vertical-align: middle;\n",
       "    }\n",
       "\n",
       "    .dataframe tbody tr th {\n",
       "        vertical-align: top;\n",
       "    }\n",
       "\n",
       "    .dataframe thead th {\n",
       "        text-align: right;\n",
       "    }\n",
       "</style>\n",
       "<table border=\"1\" class=\"dataframe\">\n",
       "  <thead>\n",
       "    <tr style=\"text-align: right;\">\n",
       "      <th></th>\n",
       "      <th>class</th>\n",
       "      <th>id</th>\n",
       "      <th>date</th>\n",
       "      <th>query</th>\n",
       "      <th>user</th>\n",
       "      <th>text</th>\n",
       "    </tr>\n",
       "  </thead>\n",
       "  <tbody>\n",
       "    <tr>\n",
       "      <th>0</th>\n",
       "      <td>0</td>\n",
       "      <td>1467810369</td>\n",
       "      <td>Mon Apr 06 22:19:45 PDT 2009</td>\n",
       "      <td>NO_QUERY</td>\n",
       "      <td>_TheSpecialOne_</td>\n",
       "      <td>bummer shoulda got david carr third day</td>\n",
       "    </tr>\n",
       "    <tr>\n",
       "      <th>1</th>\n",
       "      <td>0</td>\n",
       "      <td>1467810672</td>\n",
       "      <td>Mon Apr 06 22:19:49 PDT 2009</td>\n",
       "      <td>NO_QUERY</td>\n",
       "      <td>scotthamilton</td>\n",
       "      <td>upset update facebook texting might cry result...</td>\n",
       "    </tr>\n",
       "    <tr>\n",
       "      <th>2</th>\n",
       "      <td>0</td>\n",
       "      <td>1467810917</td>\n",
       "      <td>Mon Apr 06 22:19:53 PDT 2009</td>\n",
       "      <td>NO_QUERY</td>\n",
       "      <td>mattycus</td>\n",
       "      <td>dived many time ball managed save rest go bound</td>\n",
       "    </tr>\n",
       "    <tr>\n",
       "      <th>3</th>\n",
       "      <td>0</td>\n",
       "      <td>1467811184</td>\n",
       "      <td>Mon Apr 06 22:19:57 PDT 2009</td>\n",
       "      <td>NO_QUERY</td>\n",
       "      <td>ElleCTF</td>\n",
       "      <td>whole body feel itchy like fire</td>\n",
       "    </tr>\n",
       "    <tr>\n",
       "      <th>4</th>\n",
       "      <td>0</td>\n",
       "      <td>1467811193</td>\n",
       "      <td>Mon Apr 06 22:19:57 PDT 2009</td>\n",
       "      <td>NO_QUERY</td>\n",
       "      <td>Karoli</td>\n",
       "      <td>behaving mad see</td>\n",
       "    </tr>\n",
       "    <tr>\n",
       "      <th>5</th>\n",
       "      <td>0</td>\n",
       "      <td>1467811372</td>\n",
       "      <td>Mon Apr 06 22:20:00 PDT 2009</td>\n",
       "      <td>NO_QUERY</td>\n",
       "      <td>joy_wolf</td>\n",
       "      <td>whole crew</td>\n",
       "    </tr>\n",
       "    <tr>\n",
       "      <th>6</th>\n",
       "      <td>0</td>\n",
       "      <td>1467811592</td>\n",
       "      <td>Mon Apr 06 22:20:03 PDT 2009</td>\n",
       "      <td>NO_QUERY</td>\n",
       "      <td>mybirch</td>\n",
       "      <td>need hug</td>\n",
       "    </tr>\n",
       "    <tr>\n",
       "      <th>7</th>\n",
       "      <td>0</td>\n",
       "      <td>1467811594</td>\n",
       "      <td>Mon Apr 06 22:20:03 PDT 2009</td>\n",
       "      <td>NO_QUERY</td>\n",
       "      <td>coZZ</td>\n",
       "      <td>hey long time see yes rain bit bit lol fine th...</td>\n",
       "    </tr>\n",
       "    <tr>\n",
       "      <th>8</th>\n",
       "      <td>0</td>\n",
       "      <td>1467811795</td>\n",
       "      <td>Mon Apr 06 22:20:05 PDT 2009</td>\n",
       "      <td>NO_QUERY</td>\n",
       "      <td>2Hood4Hollywood</td>\n",
       "      <td>k nope</td>\n",
       "    </tr>\n",
       "    <tr>\n",
       "      <th>9</th>\n",
       "      <td>0</td>\n",
       "      <td>1467812025</td>\n",
       "      <td>Mon Apr 06 22:20:09 PDT 2009</td>\n",
       "      <td>NO_QUERY</td>\n",
       "      <td>mimismo</td>\n",
       "      <td>que muera</td>\n",
       "    </tr>\n",
       "  </tbody>\n",
       "</table>\n",
       "</div>"
      ],
      "text/plain": [
       "   class          id                          date     query             user  \\\n",
       "0      0  1467810369  Mon Apr 06 22:19:45 PDT 2009  NO_QUERY  _TheSpecialOne_   \n",
       "1      0  1467810672  Mon Apr 06 22:19:49 PDT 2009  NO_QUERY    scotthamilton   \n",
       "2      0  1467810917  Mon Apr 06 22:19:53 PDT 2009  NO_QUERY         mattycus   \n",
       "3      0  1467811184  Mon Apr 06 22:19:57 PDT 2009  NO_QUERY          ElleCTF   \n",
       "4      0  1467811193  Mon Apr 06 22:19:57 PDT 2009  NO_QUERY           Karoli   \n",
       "5      0  1467811372  Mon Apr 06 22:20:00 PDT 2009  NO_QUERY         joy_wolf   \n",
       "6      0  1467811592  Mon Apr 06 22:20:03 PDT 2009  NO_QUERY          mybirch   \n",
       "7      0  1467811594  Mon Apr 06 22:20:03 PDT 2009  NO_QUERY             coZZ   \n",
       "8      0  1467811795  Mon Apr 06 22:20:05 PDT 2009  NO_QUERY  2Hood4Hollywood   \n",
       "9      0  1467812025  Mon Apr 06 22:20:09 PDT 2009  NO_QUERY          mimismo   \n",
       "\n",
       "                                                text  \n",
       "0            bummer shoulda got david carr third day  \n",
       "1  upset update facebook texting might cry result...  \n",
       "2    dived many time ball managed save rest go bound  \n",
       "3                    whole body feel itchy like fire  \n",
       "4                                   behaving mad see  \n",
       "5                                         whole crew  \n",
       "6                                           need hug  \n",
       "7  hey long time see yes rain bit bit lol fine th...  \n",
       "8                                             k nope  \n",
       "9                                          que muera  "
      ]
     },
     "execution_count": 9,
     "metadata": {},
     "output_type": "execute_result"
    }
   ],
   "source": [
    "generic_tweets.head(10)"
   ]
  },
  {
   "cell_type": "markdown",
   "metadata": {},
   "source": [
    "## Step 2: Exploratory Analysis"
   ]
  },
  {
   "cell_type": "markdown",
   "metadata": {},
   "source": [
    "To get a preview of the data before building a model, the following steps are taken:\n",
    "1. Extract the airline name from a tweet\n",
    "2. Perform data visualisation to get a better idea of the sample distribution. \n",
    "    * US airlines distribution\n",
    "    * General tweet positive/negative samples distribution\n",
    "    * US airlines tweet positive/negative samples distribution \n"
   ]
  },
  {
   "cell_type": "markdown",
   "metadata": {},
   "source": [
    "### 2.1 Extract the airline name from the tweets:"
   ]
  },
  {
   "cell_type": "markdown",
   "metadata": {},
   "source": [
    "**Store the airline in another column before deleting it from the tweet:**"
   ]
  },
  {
   "cell_type": "code",
   "execution_count": 10,
   "metadata": {},
   "outputs": [],
   "source": [
    "def store_airline(text):\n",
    "    '''\n",
    "    Function stracted the airline the tweet is refering too and map it to a common way of spelling the airline\n",
    "    \n",
    "    A dictionary is built with all possible airlines mentioned in the US_airline_tweets.csv file\n",
    "    1. All instanced of the @username is found\n",
    "    2. If the @username matches with a airline in the dictionary, then the airline name is returned\n",
    "    \n",
    "    note: the function will return the first match even if there are more airlines mentioned in the tweet\n",
    "    '''\n",
    "    airlines ={'@virginamerica':'Virgin America', '@united':'United  Airlines', '@southwestair':'South West Air', '@jetblue':'JetBlue', '@usairways':'USAirways', '@americanair':'AmericanAir', '@deltaassist':'Delta Air Lines'}\n",
    "    airline=re.findall(r'@\\S+',text)\n",
    "    for i in airline:\n",
    "        if i in airlines:\n",
    "            return airlines[i]\n",
    "        \n",
    "airline_tweets ['airlines'] = airline_tweets['text'].apply(store_airline)"
   ]
  },
  {
   "cell_type": "markdown",
   "metadata": {},
   "source": [
    "**Check for any missing airline data and fill the data in manually if possible:**"
   ]
  },
  {
   "cell_type": "code",
   "execution_count": 11,
   "metadata": {},
   "outputs": [
    {
     "name": "stdout",
     "output_type": "stream",
     "text": [
      "                id sentiment negative_reason     user  retweet_count  \\\n",
      "6184  5.686020e+17  positive             NaN  JetBlue              3   \n",
      "\n",
      "                                                 text airlines  \n",
      "6184   @ninadavuluri think treat onboard enjoy flight     None  \n"
     ]
    }
   ],
   "source": [
    "print(airline_tweets[airline_tweets ['airlines'].isnull()])\n",
    "# the null tweet was from JetBlue themselves, and thus will be filled in as 'JetBlue'\n",
    "airline_tweets.at[6184, 'airlines'] ='JetBlue' "
   ]
  },
  {
   "cell_type": "markdown",
   "metadata": {},
   "source": [
    "**Remove all @User_name from tweets and perform lemmatization:**"
   ]
  },
  {
   "cell_type": "code",
   "execution_count": 12,
   "metadata": {},
   "outputs": [],
   "source": [
    "airline_tweets['text'] = airline_tweets['text'].apply(remove_at)\n",
    "airline_tweets['text'] = airline_tweets['text'].apply(lemmatizing)"
   ]
  },
  {
   "cell_type": "code",
   "execution_count": 13,
   "metadata": {},
   "outputs": [
    {
     "data": {
      "text/html": [
       "<div>\n",
       "<style scoped>\n",
       "    .dataframe tbody tr th:only-of-type {\n",
       "        vertical-align: middle;\n",
       "    }\n",
       "\n",
       "    .dataframe tbody tr th {\n",
       "        vertical-align: top;\n",
       "    }\n",
       "\n",
       "    .dataframe thead th {\n",
       "        text-align: right;\n",
       "    }\n",
       "</style>\n",
       "<table border=\"1\" class=\"dataframe\">\n",
       "  <thead>\n",
       "    <tr style=\"text-align: right;\">\n",
       "      <th></th>\n",
       "      <th>id</th>\n",
       "      <th>sentiment</th>\n",
       "      <th>negative_reason</th>\n",
       "      <th>user</th>\n",
       "      <th>retweet_count</th>\n",
       "      <th>text</th>\n",
       "      <th>airlines</th>\n",
       "    </tr>\n",
       "  </thead>\n",
       "  <tbody>\n",
       "    <tr>\n",
       "      <th>0</th>\n",
       "      <td>5.703010e+17</td>\n",
       "      <td>positive</td>\n",
       "      <td>NaN</td>\n",
       "      <td>jnardino</td>\n",
       "      <td>0</td>\n",
       "      <td>plus added commercial experience tacky</td>\n",
       "      <td>Virgin America</td>\n",
       "    </tr>\n",
       "    <tr>\n",
       "      <th>1</th>\n",
       "      <td>5.703010e+17</td>\n",
       "      <td>negative</td>\n",
       "      <td>Bad Flight</td>\n",
       "      <td>jnardino</td>\n",
       "      <td>0</td>\n",
       "      <td>really aggressive blast obnoxious entertainmen...</td>\n",
       "      <td>Virgin America</td>\n",
       "    </tr>\n",
       "    <tr>\n",
       "      <th>2</th>\n",
       "      <td>5.703010e+17</td>\n",
       "      <td>negative</td>\n",
       "      <td>Can't Tell</td>\n",
       "      <td>jnardino</td>\n",
       "      <td>0</td>\n",
       "      <td>really big bad thing</td>\n",
       "      <td>Virgin America</td>\n",
       "    </tr>\n",
       "    <tr>\n",
       "      <th>3</th>\n",
       "      <td>5.703010e+17</td>\n",
       "      <td>negative</td>\n",
       "      <td>Can't Tell</td>\n",
       "      <td>jnardino</td>\n",
       "      <td>0</td>\n",
       "      <td>seriously would pay flight seat playing really...</td>\n",
       "      <td>Virgin America</td>\n",
       "    </tr>\n",
       "    <tr>\n",
       "      <th>4</th>\n",
       "      <td>5.703010e+17</td>\n",
       "      <td>positive</td>\n",
       "      <td>NaN</td>\n",
       "      <td>cjmcginnis</td>\n",
       "      <td>0</td>\n",
       "      <td>yes nearly every time fly vx ear worm go away</td>\n",
       "      <td>Virgin America</td>\n",
       "    </tr>\n",
       "    <tr>\n",
       "      <th>5</th>\n",
       "      <td>5.703000e+17</td>\n",
       "      <td>positive</td>\n",
       "      <td>NaN</td>\n",
       "      <td>dhepburn</td>\n",
       "      <td>0</td>\n",
       "      <td>well</td>\n",
       "      <td>Virgin America</td>\n",
       "    </tr>\n",
       "    <tr>\n",
       "      <th>6</th>\n",
       "      <td>5.702950e+17</td>\n",
       "      <td>positive</td>\n",
       "      <td>NaN</td>\n",
       "      <td>YupitsTate</td>\n",
       "      <td>0</td>\n",
       "      <td>amazing arrived hour early good</td>\n",
       "      <td>Virgin America</td>\n",
       "    </tr>\n",
       "    <tr>\n",
       "      <th>7</th>\n",
       "      <td>5.702900e+17</td>\n",
       "      <td>positive</td>\n",
       "      <td>NaN</td>\n",
       "      <td>HyperCamiLax</td>\n",
       "      <td>0</td>\n",
       "      <td>pretty graphic much better minimal iconography</td>\n",
       "      <td>Virgin America</td>\n",
       "    </tr>\n",
       "    <tr>\n",
       "      <th>8</th>\n",
       "      <td>5.702900e+17</td>\n",
       "      <td>positive</td>\n",
       "      <td>NaN</td>\n",
       "      <td>HyperCamiLax</td>\n",
       "      <td>0</td>\n",
       "      <td>great deal already thinking nd trip even gone ...</td>\n",
       "      <td>Virgin America</td>\n",
       "    </tr>\n",
       "    <tr>\n",
       "      <th>9</th>\n",
       "      <td>5.702870e+17</td>\n",
       "      <td>positive</td>\n",
       "      <td>NaN</td>\n",
       "      <td>mollanderson</td>\n",
       "      <td>0</td>\n",
       "      <td>flying fabulous seductive sky u take stress aw...</td>\n",
       "      <td>Virgin America</td>\n",
       "    </tr>\n",
       "  </tbody>\n",
       "</table>\n",
       "</div>"
      ],
      "text/plain": [
       "             id sentiment negative_reason          user  retweet_count  \\\n",
       "0  5.703010e+17  positive             NaN      jnardino              0   \n",
       "1  5.703010e+17  negative      Bad Flight      jnardino              0   \n",
       "2  5.703010e+17  negative      Can't Tell      jnardino              0   \n",
       "3  5.703010e+17  negative      Can't Tell      jnardino              0   \n",
       "4  5.703010e+17  positive             NaN    cjmcginnis              0   \n",
       "5  5.703000e+17  positive             NaN      dhepburn              0   \n",
       "6  5.702950e+17  positive             NaN    YupitsTate              0   \n",
       "7  5.702900e+17  positive             NaN  HyperCamiLax              0   \n",
       "8  5.702900e+17  positive             NaN  HyperCamiLax              0   \n",
       "9  5.702870e+17  positive             NaN  mollanderson              0   \n",
       "\n",
       "                                                text        airlines  \n",
       "0             plus added commercial experience tacky  Virgin America  \n",
       "1  really aggressive blast obnoxious entertainmen...  Virgin America  \n",
       "2                               really big bad thing  Virgin America  \n",
       "3  seriously would pay flight seat playing really...  Virgin America  \n",
       "4      yes nearly every time fly vx ear worm go away  Virgin America  \n",
       "5                                               well  Virgin America  \n",
       "6                    amazing arrived hour early good  Virgin America  \n",
       "7     pretty graphic much better minimal iconography  Virgin America  \n",
       "8  great deal already thinking nd trip even gone ...  Virgin America  \n",
       "9  flying fabulous seductive sky u take stress aw...  Virgin America  "
      ]
     },
     "execution_count": 13,
     "metadata": {},
     "output_type": "execute_result"
    }
   ],
   "source": [
    "# Preview the data:\n",
    "airline_tweets.head(10)"
   ]
  },
  {
   "cell_type": "markdown",
   "metadata": {},
   "source": [
    "**US airline tweet distribution:**"
   ]
  },
  {
   "cell_type": "code",
   "execution_count": 14,
   "metadata": {},
   "outputs": [
    {
     "name": "stdout",
     "output_type": "stream",
     "text": [
      "           airlines  text\n",
      "5  United  Airlines  3124\n",
      "4         USAirways  2532\n",
      "0       AmericanAir  2296\n",
      "3    South West Air  1757\n",
      "2           JetBlue  1497\n",
      "6    Virgin America   333\n",
      "1   Delta Air Lines     2\n",
      "Total number of tweets: 11541\n"
     ]
    }
   ],
   "source": [
    "airline_tweets_dist = airline_tweets.groupby(by='airlines', as_index=False).agg({'text': pd.Series.count})\n",
    "airline_tweets_dist  = airline_tweets_dist.sort_values(by='text', ascending=False)\n",
    "print(airline_tweets_dist)\n",
    "print('Total number of tweets: '+ str(airline_tweets_dist['text'].sum()))"
   ]
  },
  {
   "cell_type": "markdown",
   "metadata": {},
   "source": [
    "**Discussion:**"
   ]
  },
  {
   "cell_type": "markdown",
   "metadata": {},
   "source": [
    "The number of tweets for Delta Air Lines is significantly lower than the other airlines. With just two tweets, it will be hard to gage the public's opinion on Delta Air Lines. More samples needs to be collected for a conclusive analysis."
   ]
  },
  {
   "cell_type": "markdown",
   "metadata": {},
   "source": [
    "The next lowest sample size is Virgin America. Even though 333 tweets is munch higher than 2 tweets, it is still smaller compared to the other samples. As such, the result obtained for Virgin America will be less confident than the other airlines. "
   ]
  },
  {
   "cell_type": "markdown",
   "metadata": {},
   "source": [
    "According to the U.S. Department of Transportation's Bureau of Transportation Statistics (BTS), U.S. airlines carried 849.3 million passengers systemwide. The total number of tweets in this case is munch smaller than the total population, and might be biased towards social media users."
   ]
  },
  {
   "cell_type": "markdown",
   "metadata": {},
   "source": [
    "## 2.2 Visualize the data:"
   ]
  },
  {
   "cell_type": "markdown",
   "metadata": {},
   "source": [
    "**Visualize the US airline distribution:**"
   ]
  },
  {
   "cell_type": "code",
   "execution_count": 15,
   "metadata": {},
   "outputs": [
    {
     "data": {
      "image/png": "[encoded data removed]",
      "text/plain": [
       "<Figure size 432x288 with 1 Axes>"
      ]
     },
     "metadata": {},
     "output_type": "display_data"
    }
   ],
   "source": [
    "#data to plot:\n",
    "labels = airline_tweets_dist['airlines'].values\n",
    "sizes = airline_tweets_dist['text'].values\n",
    "\n",
    "# Plot\n",
    "cmap = plt.get_cmap('Blues_r')\n",
    "colors = [cmap(i) for i in np.linspace(0.2, 1, 7)]\n",
    "explode = (0, 0, 0, 0, 0,0.5, 1)\n",
    "\n",
    "plt.pie(sizes, labels=labels, autopct='%1.1f%%', shadow=True, colors=colors, explode=explode)\n",
    "plt.title('US Airlines Tweets Distribution', fontsize=12)\n",
    "plt.axis('equal')\n",
    "plt.show()"
   ]
  },
  {
   "cell_type": "markdown",
   "metadata": {},
   "source": [
    "**Visualize the percent of negative vs positive tweet for each airline:**"
   ]
  },
  {
   "cell_type": "code",
   "execution_count": 16,
   "metadata": {},
   "outputs": [],
   "source": [
    "# Perform pivot table count of negative and positive tweets for each airlines:\n",
    "airline_tweets_dist = pd.pivot_table(airline_tweets, values='text', index=['airlines'], columns=['sentiment'], aggfunc='count')\n",
    "airline_tweets_dist.loc['Delta Air Lines', 'positive'] = 0\n",
    "\n",
    "# Calculate sentiment in percent of total tweets:\n",
    "airline_tweets_dist['%_negative'] = airline_tweets_dist['negative']/(airline_tweets_dist['negative']+airline_tweets_dist['positive'])\n",
    "airline_tweets_dist['%_positive'] = airline_tweets_dist['positive']/(airline_tweets_dist['negative']+airline_tweets_dist['positive'])\n",
    "airline_tweets_dist['Total'] = (airline_tweets_dist['negative']+airline_tweets_dist['positive'])\n",
    "\n",
    "# Sort the airlines by their total number of tweets and reset index fro graphing\n",
    "airline_tweets_dist  = airline_tweets_dist.sort_values(by='Total', ascending=False)\n",
    "airline_tweets_dist= airline_tweets_dist.reset_index()"
   ]
  },
  {
   "cell_type": "code",
   "execution_count": 17,
   "metadata": {},
   "outputs": [
    {
     "data": {
      "image/png": "[encoded data removed]",
      "text/plain": [
       "<Figure size 432x288 with 1 Axes>"
      ]
     },
     "metadata": {},
     "output_type": "display_data"
    }
   ],
   "source": [
    "#data to plot:\n",
    "labels = airline_tweets_dist['airlines'].values\n",
    "\n",
    "neg = airline_tweets_dist.negative.values\n",
    "pos = airline_tweets_dist.positive.values\n",
    "\n",
    "ind = np.arange(len(labels))    \n",
    "width = 0.55  \n",
    "\n",
    "p1 = plt.bar(ind, neg, width,color='indianred')\n",
    "p2 = plt.bar(ind, pos, width, bottom=neg)\n",
    "\n",
    "plt.ylabel('Number of tweets')\n",
    "plt.xlabel('US Airlines')\n",
    "plt.title('Negative and Positive Sentiment for Tweets Regarding US Airlines', fontsize=16)\n",
    "plt.xticks(ind, labels)\n",
    "plt.xticks(rotation=-75)\n",
    "plt.legend((p1[0], p2[0]), ('Negative', 'Positive'))\n",
    "\n",
    "plt.show()"
   ]
  },
  {
   "cell_type": "markdown",
   "metadata": {},
   "source": [
    "**Visualize the General Tweets Data**"
   ]
  },
  {
   "cell_type": "markdown",
   "metadata": {},
   "source": [
    "Find how the total number of tweets, the percent positive, and percent negative tweets. "
   ]
  },
  {
   "cell_type": "code",
   "execution_count": 18,
   "metadata": {},
   "outputs": [],
   "source": [
    "generic_tweets ['emotion'] = generic_tweets['class'].apply(lambda x: 'negative' if (x==0) else 'positive')\n",
    "generic_tweets_dist = generic_tweets.groupby(['emotion']).agg({'text': pd.Series.count})\n",
    "generic_tweets_dist[\"Percent\"] = generic_tweets_dist.loc[['negative'],['text']].values[0][0]/generic_tweets_dist['text'].sum()\n",
    "generic_tweets_dist= generic_tweets_dist.reset_index()"
   ]
  },
  {
   "cell_type": "code",
   "execution_count": 19,
   "metadata": {},
   "outputs": [
    {
     "data": {
      "image/png": "[encoded data removed]",
      "text/plain": [
       "<Figure size 432x288 with 1 Axes>"
      ]
     },
     "metadata": {},
     "output_type": "display_data"
    }
   ],
   "source": [
    "#data to plot:\n",
    "labels = generic_tweets_dist['emotion'].values\n",
    "sizes = generic_tweets_dist['text'].values\n",
    "\n",
    "# Plot\n",
    "cmap = plt.get_cmap('Blues_r')\n",
    "colors = [cmap(i) for i in np.linspace(0.3, 0.6, 2)]\n",
    "\n",
    "plt.pie(sizes, labels=labels, autopct='%1.1f%%', shadow=True, colors=colors,startangle =60)\n",
    "plt.title('General Tweets Distribution', fontsize=12)\n",
    "plt.axis('equal')\n",
    "plt.show()"
   ]
  },
  {
   "cell_type": "markdown",
   "metadata": {},
   "source": [
    "Find the distribution for the length of tweets after data cleaning."
   ]
  },
  {
   "cell_type": "code",
   "execution_count": 20,
   "metadata": {},
   "outputs": [],
   "source": [
    "generic_tweets['number_words'] = generic_tweets['text'].apply(lambda x: len(x.split()))"
   ]
  },
  {
   "cell_type": "code",
   "execution_count": 21,
   "metadata": {},
   "outputs": [
    {
     "data": {
      "text/plain": [
       "Text(0.5,1,'Number of words in a tweet (not including stop words)')"
      ]
     },
     "execution_count": 21,
     "metadata": {},
     "output_type": "execute_result"
    },
    {
     "data": {
      "image/png": "[encoded data removed]",
      "text/plain": [
       "<Figure size 432x288 with 1 Axes>"
      ]
     },
     "metadata": {},
     "output_type": "display_data"
    }
   ],
   "source": [
    "n, bins, patches = plt.hist(x=generic_tweets['number_words'], bins=36, color = cmap(0.3),alpha=0.75, rwidth=0.85)\n",
    "\n",
    "plt.grid(axis='y', alpha=0.75)\n",
    "plt.xlabel('Number of Words')\n",
    "plt.ylabel('Frequency')\n",
    "plt.title('Number of words in a tweet (not including stop words)')"
   ]
  },
  {
   "cell_type": "markdown",
   "metadata": {},
   "source": [
    "## Step 3: Model Preparation"
   ]
  },
  {
   "cell_type": "code",
   "execution_count": 22,
   "metadata": {},
   "outputs": [],
   "source": [
    "# Import all library needed:\n",
    "from sklearn.feature_extraction.text import CountVectorizer\n",
    "from sklearn.feature_extraction.text import TfidfTransformer\n",
    "from sklearn.model_selection import train_test_split"
   ]
  },
  {
   "cell_type": "markdown",
   "metadata": {},
   "source": [
    "**Count the freqeuncy of each word in every tweet:**"
   ]
  },
  {
   "cell_type": "markdown",
   "metadata": {},
   "source": [
    "Use the tokenizer and frequency count library to count the freqeuncy of each word in a tweet:"
   ]
  },
  {
   "cell_type": "code",
   "execution_count": 79,
   "metadata": {},
   "outputs": [],
   "source": [
    "# A giant array is generated where the row is the tweet and the coloums are all possible words in the generict_tweet data set\n",
    "# The values are the frequency of each word present in the corresponding tweet\n",
    "cv = CountVectorizer()\n",
    "data = cv.fit_transform(generic_tweets['text'])"
   ]
  },
  {
   "cell_type": "markdown",
   "metadata": {},
   "source": [
    "Normalise the frequency count:"
   ]
  },
  {
   "cell_type": "code",
   "execution_count": 80,
   "metadata": {},
   "outputs": [
    {
     "data": {
      "text/plain": [
       "(200000, 71285)"
      ]
     },
     "execution_count": 80,
     "metadata": {},
     "output_type": "execute_result"
    }
   ],
   "source": [
    "# Even though stops words are removed, there might still be words that are present way more frequent than others.\n",
    "# If the direct count data was fed to a classifier, those very frequent terms would shadow the frequencies of rarer yet more interesting terms.\n",
    "# As such, the frequency data is normalised first by the euclidian norm and then fed into the model.\n",
    "transformer = TfidfTransformer(smooth_idf=False)\n",
    "data_norm = transformer.fit_transform(data)\n",
    "data_norm.shape"
   ]
  },
  {
   "cell_type": "markdown",
   "metadata": {},
   "source": [
    "**Seperate the data into training and testing data set:**"
   ]
  },
  {
   "cell_type": "code",
   "execution_count": 69,
   "metadata": {},
   "outputs": [],
   "source": [
    "# Define the feature input matrix, X and the output vecot, y:\n",
    "X = data_norm\n",
    "y = generic_tweets['emotion']\n",
    "y_labels = generic_tweets['emotion'].unique()"
   ]
  },
  {
   "cell_type": "code",
   "execution_count": 70,
   "metadata": {},
   "outputs": [],
   "source": [
    "# Split the datat into 70% training and 30% testing sets:\n",
    "X_train, X_test, y_train, y_test = train_test_split(X,y,test_size=0.3,random_state=101)"
   ]
  },
  {
   "cell_type": "markdown",
   "metadata": {},
   "source": [
    "## Step 4 : Model Implementation "
   ]
  },
  {
   "cell_type": "code",
   "execution_count": 71,
   "metadata": {},
   "outputs": [],
   "source": [
    "# Importing libraries from sklearn:\n",
    "from sklearn.linear_model import LogisticRegression\n",
    "from sklearn.metrics import confusion_matrix\n",
    "from sklearn.metrics import accuracy_score\n",
    "from sklearn.metrics import classification_report"
   ]
  },
  {
   "cell_type": "markdown",
   "metadata": {},
   "source": [
    "### 4.1 Model implementation for the general tweets sentimental analysis"
   ]
  },
  {
   "cell_type": "markdown",
   "metadata": {},
   "source": [
    "#### 4.1.1 Train a logistic regression model using generic tweets:"
   ]
  },
  {
   "cell_type": "code",
   "execution_count": 72,
   "metadata": {},
   "outputs": [
    {
     "data": {
      "text/plain": [
       "LogisticRegression(C=1.0, class_weight=None, dual=False, fit_intercept=True,\n",
       "          intercept_scaling=1, max_iter=1000, multi_class='warn',\n",
       "          n_jobs=None, penalty='l2', random_state=None, solver='liblinear',\n",
       "          tol=0.0001, verbose=0, warm_start=False)"
      ]
     },
     "execution_count": 72,
     "metadata": {},
     "output_type": "execute_result"
    }
   ],
   "source": [
    "# Perfrom lofistic regression on the training data:\n",
    "log = LogisticRegression(solver = 'liblinear', max_iter=1000)\n",
    "log.fit(X_train,y_train)"
   ]
  },
  {
   "cell_type": "code",
   "execution_count": 73,
   "metadata": {},
   "outputs": [],
   "source": [
    "# Predict the outcome using the test data:\n",
    "y_pred=log.predict(X_test)"
   ]
  },
  {
   "cell_type": "code",
   "execution_count": 74,
   "metadata": {},
   "outputs": [],
   "source": [
    "# Define a function to plot decision matrix:\n",
    "def plot_confusion_matrix(cm, classes,\n",
    "                          normalize=False,\n",
    "                          title='Confusion matrix',\n",
    "                          cmap=plt.cm.Blues, rotation = 0):\n",
    "    \"\"\"\n",
    "    This function prints and plots the confusion matrix.\n",
    "    Normalization can be applied by setting `normalize=True`.\n",
    "    \"\"\"\n",
    "    if normalize:\n",
    "        cm = cm.astype('float') / cm.sum(axis=1)[:, np.newaxis]\n",
    "\n",
    "    plt.imshow(cm, interpolation='nearest', cmap=cmap)\n",
    "    plt.title(title)\n",
    "    plt.colorbar()\n",
    "    tick_marks = np.arange(len(classes))\n",
    "    plt.xticks(tick_marks, classes, rotation=rotation)\n",
    "    plt.yticks(tick_marks, classes)\n",
    "\n",
    "    fmt = '.2f' if normalize else 'd'\n",
    "    thresh = cm.max() / 2.\n",
    "    for i in range(cm.shape[0]) :\n",
    "        for j in range(cm.shape[1]):\n",
    "            plt.text(j, i, format(cm[i, j], fmt),\n",
    "                     horizontalalignment=\"center\",\n",
    "                     color=\"white\" if cm[i, j] > thresh else \"black\")\n",
    "\n",
    "    plt.ylabel('True label')\n",
    "    plt.xlabel('Predicted label')\n",
    "    plt.tight_layout()\n"
   ]
  },
  {
   "cell_type": "code",
   "execution_count": 75,
   "metadata": {},
   "outputs": [
    {
     "data": {
      "image/png": "[encoded data removed]",
      "text/plain": [
       "<Figure size 288x288 with 2 Axes>"
      ]
     },
     "metadata": {},
     "output_type": "display_data"
    }
   ],
   "source": [
    "# Compute a confusion matrix:\n",
    "cm = confusion_matrix(y_test,y_pred, labels = y_labels)\n",
    "\n",
    "# Plot the confusion matrix:\n",
    "np.set_printoptions(precision=1)\n",
    "plt.figure(figsize=(4,4))\n",
    "plot_confusion_matrix(cm, classes=y_labels, normalize=False, title='Confusion matrix')\n",
    "plt.show()"
   ]
  },
  {
   "cell_type": "code",
   "execution_count": 76,
   "metadata": {},
   "outputs": [
    {
     "name": "stdout",
     "output_type": "stream",
     "text": [
      "Accuracy: 76.78%\n"
     ]
    }
   ],
   "source": [
    "# Print he accuracy score of the predicted output vs the real output of the test data:\n",
    "print('Accuracy: %.2f%%' % (accuracy_score(y_pred,y_test)*100))"
   ]
  },
  {
   "cell_type": "code",
   "execution_count": 33,
   "metadata": {},
   "outputs": [
    {
     "name": "stdout",
     "output_type": "stream",
     "text": [
      "              precision    recall  f1-score   support\n",
      "\n",
      "    negative       0.78      0.74      0.76     30109\n",
      "    positive       0.75      0.79      0.77     29891\n",
      "\n",
      "   micro avg       0.77      0.77      0.77     60000\n",
      "   macro avg       0.77      0.77      0.77     60000\n",
      "weighted avg       0.77      0.77      0.77     60000\n",
      "\n"
     ]
    }
   ],
   "source": [
    "# Print all perfromance scores for the testing data set:\n",
    "print(classification_report(y_test,y_pred))"
   ]
  },
  {
   "cell_type": "markdown",
   "metadata": {},
   "source": [
    "#### 4.1.2 Test the model trained using generic tweets on the US airline data"
   ]
  },
  {
   "cell_type": "code",
   "execution_count": 34,
   "metadata": {},
   "outputs": [
    {
     "data": {
      "text/plain": [
       "(11541, 71285)"
      ]
     },
     "execution_count": 34,
     "metadata": {},
     "output_type": "execute_result"
    }
   ],
   "source": [
    "# Compute a new freqeuncy matrix for the US airline tweets using the same feature as the model trained using the generic tweets:\n",
    "data = cv.transform(airline_tweets['text'])\n",
    "data_norm = transformer.transform(data)\n",
    "data_norm.shape"
   ]
  },
  {
   "cell_type": "code",
   "execution_count": 35,
   "metadata": {},
   "outputs": [],
   "source": [
    "# Set all data to test data:\n",
    "X_test = data_norm\n",
    "y_test = airline_tweets['sentiment']\n",
    "y_labels = airline_tweets['sentiment'].unique()"
   ]
  },
  {
   "cell_type": "code",
   "execution_count": 36,
   "metadata": {},
   "outputs": [],
   "source": [
    "# Predict the sentiment of the US airline tweet:\n",
    "y_pred=log.predict(X_test)"
   ]
  },
  {
   "cell_type": "code",
   "execution_count": 37,
   "metadata": {},
   "outputs": [
    {
     "data": {
      "image/png": "[encoded data removed]",
      "text/plain": [
       "<Figure size 288x288 with 2 Axes>"
      ]
     },
     "metadata": {},
     "output_type": "display_data"
    }
   ],
   "source": [
    "# Compute the confusion matrix:\n",
    "cm = confusion_matrix(y_test,y_pred, labels = y_labels)\n",
    "\n",
    "# Plot the confusion matrix:\n",
    "np.set_printoptions(precision=1)\n",
    "plt.figure(figsize=(4,4))\n",
    "plot_confusion_matrix(cm, classes=y_labels, normalize=False, title='Confusion matrix')\n",
    "plt.show()"
   ]
  },
  {
   "cell_type": "code",
   "execution_count": 38,
   "metadata": {},
   "outputs": [
    {
     "name": "stdout",
     "output_type": "stream",
     "text": [
      "Accuracy: 75.80%\n"
     ]
    }
   ],
   "source": [
    "# Print the accuracy score:\n",
    "print('Accuracy: %.2f%%' % (accuracy_score(y_pred,y_test)*100))"
   ]
  },
  {
   "cell_type": "code",
   "execution_count": 39,
   "metadata": {},
   "outputs": [
    {
     "name": "stdout",
     "output_type": "stream",
     "text": [
      "              precision    recall  f1-score   support\n",
      "\n",
      "    negative       0.96      0.73      0.83      9178\n",
      "    positive       0.45      0.88      0.60      2363\n",
      "\n",
      "   micro avg       0.76      0.76      0.76     11541\n",
      "   macro avg       0.71      0.80      0.71     11541\n",
      "weighted avg       0.86      0.76      0.78     11541\n",
      "\n"
     ]
    }
   ],
   "source": [
    "# Print all performance scores:\n",
    "print(classification_report(y_test,y_pred))"
   ]
  },
  {
   "cell_type": "markdown",
   "metadata": {},
   "source": [
    "### 4.2 Model implementation for the negative US airlines tweets classification"
   ]
  },
  {
   "cell_type": "markdown",
   "metadata": {},
   "source": [
    "#### 4.2.1 Prepare and visualize the data"
   ]
  },
  {
   "cell_type": "code",
   "execution_count": 40,
   "metadata": {},
   "outputs": [],
   "source": [
    "# Filter the tweets for only negative comments regarding US airlines:\n",
    "airline_tweets_neg = airline_tweets[airline_tweets.sentiment=='negative']"
   ]
  },
  {
   "cell_type": "code",
   "execution_count": 41,
   "metadata": {},
   "outputs": [
    {
     "data": {
      "text/html": [
       "<div>\n",
       "<style scoped>\n",
       "    .dataframe tbody tr th:only-of-type {\n",
       "        vertical-align: middle;\n",
       "    }\n",
       "\n",
       "    .dataframe tbody tr th {\n",
       "        vertical-align: top;\n",
       "    }\n",
       "\n",
       "    .dataframe thead th {\n",
       "        text-align: right;\n",
       "    }\n",
       "</style>\n",
       "<table border=\"1\" class=\"dataframe\">\n",
       "  <thead>\n",
       "    <tr style=\"text-align: right;\">\n",
       "      <th></th>\n",
       "      <th>text</th>\n",
       "    </tr>\n",
       "    <tr>\n",
       "      <th>negative_reason</th>\n",
       "      <th></th>\n",
       "    </tr>\n",
       "  </thead>\n",
       "  <tbody>\n",
       "    <tr>\n",
       "      <th>Customer Service Issue</th>\n",
       "      <td>2910</td>\n",
       "    </tr>\n",
       "    <tr>\n",
       "      <th>Late Flight</th>\n",
       "      <td>1665</td>\n",
       "    </tr>\n",
       "    <tr>\n",
       "      <th>Can't Tell</th>\n",
       "      <td>1190</td>\n",
       "    </tr>\n",
       "    <tr>\n",
       "      <th>Cancelled Flight</th>\n",
       "      <td>847</td>\n",
       "    </tr>\n",
       "    <tr>\n",
       "      <th>Lost Luggage</th>\n",
       "      <td>724</td>\n",
       "    </tr>\n",
       "    <tr>\n",
       "      <th>Bad Flight</th>\n",
       "      <td>580</td>\n",
       "    </tr>\n",
       "    <tr>\n",
       "      <th>Flight Booking Problems</th>\n",
       "      <td>529</td>\n",
       "    </tr>\n",
       "    <tr>\n",
       "      <th>Flight Attendant Complaints</th>\n",
       "      <td>481</td>\n",
       "    </tr>\n",
       "    <tr>\n",
       "      <th>longlines</th>\n",
       "      <td>178</td>\n",
       "    </tr>\n",
       "    <tr>\n",
       "      <th>Damaged Luggage</th>\n",
       "      <td>74</td>\n",
       "    </tr>\n",
       "  </tbody>\n",
       "</table>\n",
       "</div>"
      ],
      "text/plain": [
       "                             text\n",
       "negative_reason                  \n",
       "Customer Service Issue       2910\n",
       "Late Flight                  1665\n",
       "Can't Tell                   1190\n",
       "Cancelled Flight              847\n",
       "Lost Luggage                  724\n",
       "Bad Flight                    580\n",
       "Flight Booking Problems       529\n",
       "Flight Attendant Complaints   481\n",
       "longlines                     178\n",
       "Damaged Luggage                74"
      ]
     },
     "execution_count": 41,
     "metadata": {},
     "output_type": "execute_result"
    }
   ],
   "source": [
    "# List all categories and the corresponding number of tweets:\n",
    "# This is done to see if class imbalance will be an issue.\n",
    "airline_tweets_neg_dist = airline_tweets_neg.groupby(by='negative_reason').agg({'text': pd.Series.count})\n",
    "airline_tweets_neg_dist  = airline_tweets_neg_dist.sort_values(by='text', ascending=False)\n",
    "airline_tweets_neg_dist"
   ]
  },
  {
   "cell_type": "markdown",
   "metadata": {},
   "source": [
    "The two last categories, \"longlines\" and \"Damaged Luggage\", have significantly less tweets than the other categories. As a restult, they might suffer from class imbalance, which means that there is not enough examples to properly train the model to identify those classes. The model will have a tendency of classifiying a tweet into the other categories with more examples. \n",
    "\n",
    "To counter the issue above, the last two classes will be combined with other similar ones. The \"Damaged Luggage\" category will be combined with the \"Lost Luggage\" since both of them refer to luggages, and the \"longlines\" will be combined with the \"Customer Service Issue\" category since both of them imply unsatisfactory interraction with airline personel. One can argue that waiting in line for too long is one example of unsatisfactory custumer service. \n",
    "\n",
    "The \"Flight Booking Problem\" category is very similar to the 'customer service issue' category, because booking a flight often involve interacting with an airline representative. Those two groups will be combined as well. "
   ]
  },
  {
   "cell_type": "code",
   "execution_count": 42,
   "metadata": {},
   "outputs": [
    {
     "name": "stderr",
     "output_type": "stream",
     "text": [
      "C:\\Users\\Lilly\\AppData\\Roaming\\Python\\Python37\\site-packages\\ipykernel_launcher.py:10: SettingWithCopyWarning: \n",
      "A value is trying to be set on a copy of a slice from a DataFrame.\n",
      "Try using .loc[row_indexer,col_indexer] = value instead\n",
      "\n",
      "See the caveats in the documentation: http://pandas.pydata.org/pandas-docs/stable/indexing.html#indexing-view-versus-copy\n",
      "  # Remove the CWD from sys.path while we load stuff.\n"
     ]
    },
    {
     "data": {
      "text/html": [
       "<div>\n",
       "<style scoped>\n",
       "    .dataframe tbody tr th:only-of-type {\n",
       "        vertical-align: middle;\n",
       "    }\n",
       "\n",
       "    .dataframe tbody tr th {\n",
       "        vertical-align: top;\n",
       "    }\n",
       "\n",
       "    .dataframe thead th {\n",
       "        text-align: right;\n",
       "    }\n",
       "</style>\n",
       "<table border=\"1\" class=\"dataframe\">\n",
       "  <thead>\n",
       "    <tr style=\"text-align: right;\">\n",
       "      <th></th>\n",
       "      <th>text</th>\n",
       "    </tr>\n",
       "    <tr>\n",
       "      <th>grp_negative_reason</th>\n",
       "      <th></th>\n",
       "    </tr>\n",
       "  </thead>\n",
       "  <tbody>\n",
       "    <tr>\n",
       "      <th>Customer Service Issue</th>\n",
       "      <td>3617</td>\n",
       "    </tr>\n",
       "    <tr>\n",
       "      <th>Late Flight</th>\n",
       "      <td>1665</td>\n",
       "    </tr>\n",
       "    <tr>\n",
       "      <th>Can't Tell</th>\n",
       "      <td>1190</td>\n",
       "    </tr>\n",
       "    <tr>\n",
       "      <th>Cancelled Flight</th>\n",
       "      <td>847</td>\n",
       "    </tr>\n",
       "    <tr>\n",
       "      <th>Lost or Damaged Luggage</th>\n",
       "      <td>798</td>\n",
       "    </tr>\n",
       "    <tr>\n",
       "      <th>Bad Flight</th>\n",
       "      <td>580</td>\n",
       "    </tr>\n",
       "    <tr>\n",
       "      <th>Flight Attendant Complaints</th>\n",
       "      <td>481</td>\n",
       "    </tr>\n",
       "  </tbody>\n",
       "</table>\n",
       "</div>"
      ],
      "text/plain": [
       "                             text\n",
       "grp_negative_reason              \n",
       "Customer Service Issue       3617\n",
       "Late Flight                  1665\n",
       "Can't Tell                   1190\n",
       "Cancelled Flight              847\n",
       "Lost or Damaged Luggage       798\n",
       "Bad Flight                    580\n",
       "Flight Attendant Complaints   481"
      ]
     },
     "execution_count": 42,
     "metadata": {},
     "output_type": "execute_result"
    }
   ],
   "source": [
    "# Combining the categories mentioned above:\n",
    "def group_classes(neg):\n",
    "    if neg == 'Damaged Luggage' or neg == 'Lost Luggage':\n",
    "        return 'Lost or Damaged Luggage'\n",
    "    elif neg == \"longlines\" or neg == 'Flight Booking Problems':\n",
    "        return 'Customer Service Issue'\n",
    "    else :\n",
    "        return neg\n",
    "    \n",
    "airline_tweets_neg['grp_negative_reason'] = airline_tweets_neg['negative_reason'].apply(group_classes)\n",
    "\n",
    "# Reprinting the distribution:\n",
    "airline_tweets_neg_dist = airline_tweets_neg.groupby(by='grp_negative_reason').agg({'text': pd.Series.count})\n",
    "airline_tweets_neg_dist  = airline_tweets_neg_dist.sort_values(by='text', ascending=False)\n",
    "airline_tweets_neg_dist"
   ]
  },
  {
   "cell_type": "markdown",
   "metadata": {},
   "source": [
    "#### 4.2.2 Model input and output preparation"
   ]
  },
  {
   "cell_type": "code",
   "execution_count": 43,
   "metadata": {},
   "outputs": [
    {
     "data": {
      "text/plain": [
       "(9178, 7790)"
      ]
     },
     "execution_count": 43,
     "metadata": {},
     "output_type": "execute_result"
    }
   ],
   "source": [
    "# Generate the bag of words array:\n",
    "data = cv.fit_transform(airline_tweets_neg['text'])\n",
    "data_norm = transformer.fit_transform(data)\n",
    "data_norm.shape"
   ]
  },
  {
   "cell_type": "code",
   "execution_count": 57,
   "metadata": {},
   "outputs": [
    {
     "data": {
      "text/plain": [
       "array(['Bad Flight', \"Can't Tell\", 'Late Flight',\n",
       "       'Customer Service Issue', 'Lost or Damaged Luggage',\n",
       "       'Flight Attendant Complaints', 'Cancelled Flight'], dtype=object)"
      ]
     },
     "execution_count": 57,
     "metadata": {},
     "output_type": "execute_result"
    }
   ],
   "source": [
    "# Define the feature input matrix, X and the output vector, y:\n",
    "X = data_norm\n",
    "y = airline_tweets_neg['grp_negative_reason']\n",
    "y_labels = airline_tweets_neg['grp_negative_reason'].unique()"
   ]
  },
  {
   "cell_type": "code",
   "execution_count": 52,
   "metadata": {},
   "outputs": [],
   "source": [
    "# Split the datat into 70% training and 30% testing sets:\n",
    "X_train, X_test, y_train, y_test = train_test_split(X,y,test_size=0.3,random_state=11)"
   ]
  },
  {
   "cell_type": "code",
   "execution_count": 53,
   "metadata": {},
   "outputs": [],
   "source": [
    "# Perform logistic regression:\n",
    "log = LogisticRegression( solver = 'saga', multi_class = 'auto', max_iter=1000)\n",
    "log.fit(X_train,y_train)\n",
    "\n",
    "# Test the model on the testing data:\n",
    "y_pred=log.predict(X_test)"
   ]
  },
  {
   "cell_type": "code",
   "execution_count": 54,
   "metadata": {},
   "outputs": [
    {
     "data": {
      "image/png": "[encoded data removed]",
      "text/plain": [
       "<Figure size 720x720 with 2 Axes>"
      ]
     },
     "metadata": {},
     "output_type": "display_data"
    }
   ],
   "source": [
    "# Compute the confusion matrix:\n",
    "cm = confusion_matrix(y_test,y_pred,labels = y_labels)\n",
    "\n",
    "# Plot the confusion matrix:\n",
    "np.set_printoptions(precision=1)\n",
    "plt.figure(figsize=(10,10))\n",
    "plot_confusion_matrix(cm, classes=y_labels, normalize=False,title='Confusion matrix',rotation = -75)\n",
    "plt.show()"
   ]
  },
  {
   "cell_type": "code",
   "execution_count": 55,
   "metadata": {},
   "outputs": [
    {
     "name": "stdout",
     "output_type": "stream",
     "text": [
      "Accuracy: 64.74%\n"
     ]
    }
   ],
   "source": [
    "# Print the accuracy score:\n",
    "print('Accuracy: %.2f%%' % (accuracy_score(y_test,y_pred)*100))"
   ]
  },
  {
   "cell_type": "code",
   "execution_count": 56,
   "metadata": {},
   "outputs": [
    {
     "name": "stdout",
     "output_type": "stream",
     "text": [
      "                             precision    recall  f1-score   support\n",
      "\n",
      "                 Bad Flight       0.67      0.19      0.29       180\n",
      "                 Can't Tell       0.41      0.30      0.35       334\n",
      "           Cancelled Flight       0.81      0.61      0.69       250\n",
      "     Customer Service Issue       0.61      0.87      0.72      1074\n",
      "Flight Attendant Complaints       0.67      0.15      0.24       160\n",
      "                Late Flight       0.73      0.72      0.73       507\n",
      "    Lost or Damaged Luggage       0.84      0.68      0.75       249\n",
      "\n",
      "                  micro avg       0.65      0.65      0.65      2754\n",
      "                  macro avg       0.68      0.50      0.54      2754\n",
      "               weighted avg       0.65      0.65      0.62      2754\n",
      "\n"
     ]
    }
   ],
   "source": [
    "# Print all performance scores:\n",
    "print(classification_report(y_test,y_pred))"
   ]
  },
  {
   "cell_type": "markdown",
   "metadata": {},
   "source": [
    "## Step 5: Results discussion"
   ]
  },
  {
   "cell_type": "code",
   "execution_count": null,
   "metadata": {},
   "outputs": [],
   "source": []
  }
 ],
 "metadata": {
  "kernelspec": {
   "display_name": "Python 3",
   "language": "python",
   "name": "python3"
  },
  "language_info": {
   "codemirror_mode": {
    "name": "ipython",
    "version": 3
   },
   "file_extension": ".py",
   "mimetype": "text/x-python",
   "name": "python",
   "nbconvert_exporter": "python",
   "pygments_lexer": "ipython3",
   "version": "3.5.2"
  }
 },
 "nbformat": 4,
 "nbformat_minor": 2
}
